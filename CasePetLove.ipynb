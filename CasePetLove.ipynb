{
 "cells": [
  {
   "cell_type": "markdown",
   "id": "1549b76c",
   "metadata": {},
   "source": [
    "## Case BI - Análise de Dados\n",
    "Esse Jupyter Notebook tem como objetivo expor os códigos e cálculos que foram utilizados para preparar a apresentação. \n",
    "Ele contém alguns comentários breves dentro do próprio código que auxiliam na compreensão do raciocínio, além de uma separação por tópicos.\n"
   ]
  },
  {
   "cell_type": "markdown",
   "id": "9429221c",
   "metadata": {},
   "source": [
    "<b>1º Passo</b> \n",
    "\n",
    "`Importação da base de dados e bibliotecas, breve exploração dos dados e filtragem.`"
   ]
  },
  {
   "cell_type": "code",
   "execution_count": 1,
   "id": "6758fb91",
   "metadata": {},
   "outputs": [
    {
     "data": {
      "text/html": [
       "<div>\n",
       "<style scoped>\n",
       "    .dataframe tbody tr th:only-of-type {\n",
       "        vertical-align: middle;\n",
       "    }\n",
       "\n",
       "    .dataframe tbody tr th {\n",
       "        vertical-align: top;\n",
       "    }\n",
       "\n",
       "    .dataframe thead th {\n",
       "        text-align: right;\n",
       "    }\n",
       "</style>\n",
       "<table border=\"1\" class=\"dataframe\">\n",
       "  <thead>\n",
       "    <tr style=\"text-align: right;\">\n",
       "      <th></th>\n",
       "      <th>id</th>\n",
       "      <th>created_at</th>\n",
       "      <th>updated_at</th>\n",
       "      <th>deleted_at</th>\n",
       "      <th>name_hash</th>\n",
       "      <th>email_hash</th>\n",
       "      <th>address_hash</th>\n",
       "      <th>birth_date</th>\n",
       "      <th>status</th>\n",
       "      <th>version</th>\n",
       "      <th>city</th>\n",
       "      <th>state</th>\n",
       "      <th>neighborhood</th>\n",
       "      <th>last_date_purchase</th>\n",
       "      <th>average_ticket</th>\n",
       "      <th>items_quantity</th>\n",
       "      <th>all_revenue</th>\n",
       "      <th>all_orders</th>\n",
       "      <th>recency</th>\n",
       "      <th>marketing_source</th>\n",
       "    </tr>\n",
       "  </thead>\n",
       "  <tbody>\n",
       "    <tr>\n",
       "      <th>0</th>\n",
       "      <td>8bf7960e-3b93-468b-856e-6c6c5b56f52b</td>\n",
       "      <td>08/15/17 07:05 AM</td>\n",
       "      <td>01/14/21 11:23 AM</td>\n",
       "      <td>NaN</td>\n",
       "      <td>312d206168a318614897e8ccac43bff9</td>\n",
       "      <td>83eb3aed9a44377df80ce876dce92c9a</td>\n",
       "      <td>8b4bfaa0cbc41a16f46da15ddcd6a907</td>\n",
       "      <td>07/10/74 12:00 AM</td>\n",
       "      <td>active</td>\n",
       "      <td>2.31.7</td>\n",
       "      <td>Peixoto da Praia</td>\n",
       "      <td>AM</td>\n",
       "      <td>Aparecida 7ª Seção</td>\n",
       "      <td>01/14/21 11:23 AM</td>\n",
       "      <td>151.142942</td>\n",
       "      <td>10</td>\n",
       "      <td>906.857651</td>\n",
       "      <td>6</td>\n",
       "      <td>35</td>\n",
       "      <td>crm</td>\n",
       "    </tr>\n",
       "    <tr>\n",
       "      <th>1</th>\n",
       "      <td>a39535b5-4647-4680-b4f6-3aed57c1f1ff</td>\n",
       "      <td>12/31/19 09:53 PM</td>\n",
       "      <td>01/08/21 11:23 AM</td>\n",
       "      <td>NaN</td>\n",
       "      <td>de448fcb47d0d6a873b2eef52b5ee595</td>\n",
       "      <td>72678bb35e2ac84ed373e81dd9dca28c</td>\n",
       "      <td>22f1cfa1847f38da3f3cb114dd2b9247</td>\n",
       "      <td>07/06/40 12:00 AM</td>\n",
       "      <td>paused</td>\n",
       "      <td>3.30.12</td>\n",
       "      <td>Fernandes</td>\n",
       "      <td>RR</td>\n",
       "      <td>Santa Isabel</td>\n",
       "      <td>01/08/21 11:23 AM</td>\n",
       "      <td>236.991790</td>\n",
       "      <td>4</td>\n",
       "      <td>236.991790</td>\n",
       "      <td>1</td>\n",
       "      <td>41</td>\n",
       "      <td>organic_search</td>\n",
       "    </tr>\n",
       "    <tr>\n",
       "      <th>2</th>\n",
       "      <td>dc067cd2-c021-42bd-8c0e-beb267280e66</td>\n",
       "      <td>03/07/19 11:46 PM</td>\n",
       "      <td>01/07/21 11:23 AM</td>\n",
       "      <td>NaN</td>\n",
       "      <td>cb09e447ddc38283373d56bb46498e6a</td>\n",
       "      <td>668f4ee9add29c7bd02c485f1b7509e3</td>\n",
       "      <td>6cb47446a086ee6483b3eb954f11467a</td>\n",
       "      <td>03/18/63 12:00 AM</td>\n",
       "      <td>active</td>\n",
       "      <td>3.28.9</td>\n",
       "      <td>Lopes</td>\n",
       "      <td>RR</td>\n",
       "      <td>Estrela</td>\n",
       "      <td>01/07/21 11:23 AM</td>\n",
       "      <td>211.955597</td>\n",
       "      <td>13</td>\n",
       "      <td>2331.511572</td>\n",
       "      <td>11</td>\n",
       "      <td>42</td>\n",
       "      <td>organic_search</td>\n",
       "    </tr>\n",
       "    <tr>\n",
       "      <th>3</th>\n",
       "      <td>b5e4caeb-3a9b-49ed-aa33-5acd06b162c1</td>\n",
       "      <td>07/21/18 10:17 AM</td>\n",
       "      <td>01/10/21 11:23 AM</td>\n",
       "      <td>NaN</td>\n",
       "      <td>52593437a405b11b3557170680ef80c8</td>\n",
       "      <td>d3fb45188d95c8d7cc49da5b4f727c86</td>\n",
       "      <td>0a6f0c54db1e6f19347f96b50f8092a4</td>\n",
       "      <td>11/21/80 12:00 AM</td>\n",
       "      <td>active</td>\n",
       "      <td>3.34.3</td>\n",
       "      <td>Campos do Campo</td>\n",
       "      <td>PE</td>\n",
       "      <td>Confisco</td>\n",
       "      <td>01/10/21 11:23 AM</td>\n",
       "      <td>204.113227</td>\n",
       "      <td>8</td>\n",
       "      <td>1224.679359</td>\n",
       "      <td>6</td>\n",
       "      <td>39</td>\n",
       "      <td>organic_search</td>\n",
       "    </tr>\n",
       "    <tr>\n",
       "      <th>4</th>\n",
       "      <td>d4ff61fc-f008-4e19-b8ae-bd70cfa3ae27</td>\n",
       "      <td>06/08/18 12:09 PM</td>\n",
       "      <td>01/18/21 11:23 AM</td>\n",
       "      <td>NaN</td>\n",
       "      <td>dbda4b778a966c21904238ed2d2005db</td>\n",
       "      <td>a0f76bc49b4c43327b536da6e1a1465e</td>\n",
       "      <td>143b9f169b4fa1692f6d79b5682169b5</td>\n",
       "      <td>07/07/59 12:00 AM</td>\n",
       "      <td>active</td>\n",
       "      <td>3.19.8</td>\n",
       "      <td>das Neves</td>\n",
       "      <td>RJ</td>\n",
       "      <td>Vila Suzana Segunda Seção</td>\n",
       "      <td>01/18/21 11:23 AM</td>\n",
       "      <td>252.940997</td>\n",
       "      <td>9</td>\n",
       "      <td>2023.527980</td>\n",
       "      <td>8</td>\n",
       "      <td>31</td>\n",
       "      <td>crm</td>\n",
       "    </tr>\n",
       "  </tbody>\n",
       "</table>\n",
       "</div>"
      ],
      "text/plain": [
       "                                     id         created_at         updated_at  \\\n",
       "0  8bf7960e-3b93-468b-856e-6c6c5b56f52b  08/15/17 07:05 AM  01/14/21 11:23 AM   \n",
       "1  a39535b5-4647-4680-b4f6-3aed57c1f1ff  12/31/19 09:53 PM  01/08/21 11:23 AM   \n",
       "2  dc067cd2-c021-42bd-8c0e-beb267280e66  03/07/19 11:46 PM  01/07/21 11:23 AM   \n",
       "3  b5e4caeb-3a9b-49ed-aa33-5acd06b162c1  07/21/18 10:17 AM  01/10/21 11:23 AM   \n",
       "4  d4ff61fc-f008-4e19-b8ae-bd70cfa3ae27  06/08/18 12:09 PM  01/18/21 11:23 AM   \n",
       "\n",
       "  deleted_at                         name_hash  \\\n",
       "0        NaN  312d206168a318614897e8ccac43bff9   \n",
       "1        NaN  de448fcb47d0d6a873b2eef52b5ee595   \n",
       "2        NaN  cb09e447ddc38283373d56bb46498e6a   \n",
       "3        NaN  52593437a405b11b3557170680ef80c8   \n",
       "4        NaN  dbda4b778a966c21904238ed2d2005db   \n",
       "\n",
       "                         email_hash                      address_hash  \\\n",
       "0  83eb3aed9a44377df80ce876dce92c9a  8b4bfaa0cbc41a16f46da15ddcd6a907   \n",
       "1  72678bb35e2ac84ed373e81dd9dca28c  22f1cfa1847f38da3f3cb114dd2b9247   \n",
       "2  668f4ee9add29c7bd02c485f1b7509e3  6cb47446a086ee6483b3eb954f11467a   \n",
       "3  d3fb45188d95c8d7cc49da5b4f727c86  0a6f0c54db1e6f19347f96b50f8092a4   \n",
       "4  a0f76bc49b4c43327b536da6e1a1465e  143b9f169b4fa1692f6d79b5682169b5   \n",
       "\n",
       "          birth_date  status  version               city state  \\\n",
       "0  07/10/74 12:00 AM  active   2.31.7   Peixoto da Praia    AM   \n",
       "1  07/06/40 12:00 AM  paused  3.30.12          Fernandes    RR   \n",
       "2  03/18/63 12:00 AM  active   3.28.9              Lopes    RR   \n",
       "3  11/21/80 12:00 AM  active   3.34.3    Campos do Campo    PE   \n",
       "4  07/07/59 12:00 AM  active   3.19.8          das Neves    RJ   \n",
       "\n",
       "                neighborhood last_date_purchase  average_ticket  \\\n",
       "0         Aparecida 7ª Seção  01/14/21 11:23 AM      151.142942   \n",
       "1               Santa Isabel  01/08/21 11:23 AM      236.991790   \n",
       "2                    Estrela  01/07/21 11:23 AM      211.955597   \n",
       "3                   Confisco  01/10/21 11:23 AM      204.113227   \n",
       "4  Vila Suzana Segunda Seção  01/18/21 11:23 AM      252.940997   \n",
       "\n",
       "   items_quantity  all_revenue  all_orders  recency marketing_source  \n",
       "0              10   906.857651           6       35              crm  \n",
       "1               4   236.991790           1       41   organic_search  \n",
       "2              13  2331.511572          11       42   organic_search  \n",
       "3               8  1224.679359           6       39   organic_search  \n",
       "4               9  2023.527980           8       31              crm  "
      ]
     },
     "execution_count": 1,
     "metadata": {},
     "output_type": "execute_result"
    }
   ],
   "source": [
    "import pandas as pd\n",
    "import datetime\n",
    "from matplotlib import pyplot as plt\n",
    "fonte = 'https://github.com/mrnecosta/CasePetLoveDataAnalyst/blob/main/data-test-analytics.csv?raw=true'\n",
    "dados_pet = pd.read_csv(fonte, parse_dates=True)\n",
    "dados_pet.head()"
   ]
  },
  {
   "cell_type": "markdown",
   "id": "9ccf476c",
   "metadata": {},
   "source": [
    "<b>2º Passo + Aprendizados</b> \n",
    "\n",
    "`Extração de dados sobre o perfil dos clientes que cancelaram assinatura.`"
   ]
  },
  {
   "cell_type": "code",
   "execution_count": 2,
   "id": "8c961255",
   "metadata": {},
   "outputs": [],
   "source": [
    "\n",
    "\"\"\"\n",
    "Em determinadas datas da coluna ['birth_date'] o ano de nascimento está errado.\n",
    "Isso acontece por que quando os anos de 2 dígitos são analisados, \n",
    "eles são convertidos de acordo com os padrões POSIX e ISO C:\n",
    "os valores 69–99 são mapeados para 1969–1999 e os valores 0–68 são mapeados para 2000–2068. \n",
    "Documentação do erro: (https://python.readthedocs.io/en/stable/library/time.html).\n",
    "Aceito sugestões de como corrigir o erro.\n",
    "\"\"\"\n",
    "dados_pet.loc[:,'deleted_at'] = dados_pet['deleted_at'].astype('datetime64[ns]')\n",
    "dados_pet.loc[:,'birth_date'] = dados_pet['birth_date'].astype('datetime64[ns]')\n",
    "dados_pet.loc[:,'created_at'] = dados_pet['created_at'].astype('datetime64[ns]')\n",
    "dados_pet.loc[:,'last_date_purchase'] = dados_pet['last_date_purchase'].astype('datetime64[ns]')\n",
    "\n",
    "\"\"\"Cópia da base de dados original. Todas as modificações futuras serão feitas nas CÓPIAS.\"\"\"\n",
    "dados_petCopy = dados_pet.copy()\n",
    "\n",
    "\"\"\"Cópia que contém dados apenas de assinaturas pausadas.\"\"\"\n",
    "dados_petPaused = dados_pet[dados_pet.status == 'paused'].copy() \n",
    "\n",
    "\"\"\"Retirando valores vazios\"\"\"\n",
    "dados_petCopy.dropna(axis=0, how='any', thresh=None, subset=None, inplace=True)\n",
    "\n",
    "\"\"\"Calculando o período de assinatura\"\"\"\n",
    "dados_petCopy['periodo'] = (dados_petCopy['deleted_at'] - dados_petCopy['created_at'])"
   ]
  },
  {
   "cell_type": "code",
   "execution_count": 3,
   "id": "a475e316",
   "metadata": {},
   "outputs": [
    {
     "name": "stdout",
     "output_type": "stream",
     "text": [
      "------------------------------------------------------------\n",
      "Perfil geral dos clientes que cancelaram assinatura\n",
      "------------------------------------------------------------\n",
      "Média do total de receita do cliente: R$ 1059.41 \n",
      "\n",
      "Média da quantidade de itens pedidos:  8.65 \n",
      "\n",
      "Média do período da assinatura:  472 days 04:48:01.306930688 \n",
      "\n",
      "Média de valor gasto por pedido: R$ 217.44 \n",
      "\n"
     ]
    }
   ],
   "source": [
    "\"\"\"\n",
    "Apresentação de resultados\n",
    "\"\"\"\n",
    "print('--'*30)\n",
    "print('Perfil geral dos clientes que cancelaram assinatura')\n",
    "print('--'*30)\n",
    "\n",
    "print('Média do total de receita do cliente: R$',f\"{dados_petCopy['all_revenue'].mean():.2f}\",'\\n') \n",
    "\n",
    "print('Média da quantidade de itens pedidos: ', f\"{dados_petCopy['items_quantity'].mean():.2f}\",'\\n') \n",
    "\n",
    "print('Média do período da assinatura: ', dados_petCopy['periodo'].mean(),'\\n')\n",
    "\n",
    "print('Média de valor gasto por pedido: R$',f\"{dados_petCopy['average_ticket'].mean():.2f}\",'\\n')\n"
   ]
  },
  {
   "cell_type": "code",
   "execution_count": 4,
   "id": "908ef262",
   "metadata": {},
   "outputs": [
    {
     "data": {
      "image/png": "[encoded data removed]",
      "text/plain": [
       "<Figure size 432x288 with 1 Axes>"
      ]
     },
     "metadata": {
      "needs_background": "light"
     },
     "output_type": "display_data"
    }
   ],
   "source": [
    "\"\"\"\n",
    "Contagem de assinaturas totais por estado. \n",
    "\"\"\"\n",
    "dados_pet['state'].value_counts().sort_values(ascending=True).plot(kind='bar',stacked=True, colormap='rainbow')\n",
    "\n",
    "plt.title(\"Assinaturas totais por estado\")\n",
    "plt.show()"
   ]
  },
  {
   "cell_type": "code",
   "execution_count": 5,
   "id": "96e776a9",
   "metadata": {},
   "outputs": [
    {
     "data": {
      "image/png": "[encoded data removed]",
      "text/plain": [
       "<Figure size 432x288 with 1 Axes>"
      ]
     },
     "metadata": {
      "needs_background": "light"
     },
     "output_type": "display_data"
    }
   ],
   "source": [
    "\"\"\"\n",
    "Qual o número de cancelamentos de assinatura por estado?\n",
    "\"\"\"\n",
    "\n",
    "dados_petCopy['state'].value_counts().sort_values(ascending=True).plot(kind='bar',stacked=True, colormap='rainbow')\n",
    "\n",
    "plt.title(\"Cancelamentos por estado\")\n",
    "plt.show()"
   ]
  },
  {
   "cell_type": "code",
   "execution_count": 6,
   "id": "d932e0e6",
   "metadata": {},
   "outputs": [
    {
     "name": "stdout",
     "output_type": "stream",
     "text": [
      "organic_search       196\n",
      "direct                96\n",
      "paid_search           70\n",
      "telegram_whatsapp     66\n",
      "crm                   43\n",
      "none                  34\n",
      "Name: marketing_source, dtype: int64\n"
     ]
    },
    {
     "data": {
      "image/png": "[encoded data removed]",
      "text/plain": [
       "<Figure size 432x288 with 1 Axes>"
      ]
     },
     "metadata": {
      "needs_background": "light"
     },
     "output_type": "display_data"
    }
   ],
   "source": [
    "\"\"\"\n",
    "Qual canal de marketing mais converteu as assinaturas? \n",
    "\"\"\"\n",
    "freqMkt = dados_petCopy['marketing_source'].value_counts()\n",
    "print(freqMkt)\n",
    "dados_petCopy['marketing_source'].value_counts().sort_values().plot(kind='bar',stacked=True, colormap='rainbow')\n",
    "\n",
    "plt.title(\"Frequência do marketing que converteu assinaturas\")\n",
    "plt.show()"
   ]
  },
  {
   "cell_type": "code",
   "execution_count": 7,
   "id": "3b0bd9b1",
   "metadata": {},
   "outputs": [
    {
     "data": {
      "image/png": "[encoded data removed]",
      "text/plain": [
       "<Figure size 432x288 with 1 Axes>"
      ]
     },
     "metadata": {
      "needs_background": "light"
     },
     "output_type": "display_data"
    }
   ],
   "source": [
    "\"\"\"\n",
    "Frequência de cancelamentos por ano\n",
    "\"\"\"\n",
    "dados_petCopy['deleted_year'] = dados_petCopy['deleted_at'].dt.year\n",
    "dados_petCopy['deleted_year'].value_counts().sort_values(ascending=True).plot(kind='bar',stacked=True, colormap='rainbow')\n",
    "\n",
    "plt.title(\"Cancelamentos por ano\")\n",
    "plt.show()"
   ]
  },
  {
   "cell_type": "code",
   "execution_count": 8,
   "id": "fb10f822",
   "metadata": {},
   "outputs": [
    {
     "data": {
      "image/png": "[encoded data removed]",
      "text/plain": [
       "<Figure size 432x288 with 1 Axes>"
      ]
     },
     "metadata": {
      "needs_background": "light"
     },
     "output_type": "display_data"
    }
   ],
   "source": [
    "\"\"\"\n",
    "Criação de novas contas\n",
    "\"\"\"\n",
    "dados_pet['created_year'] = dados_pet['created_at'].dt.year\n",
    "dados_pet['created_year'].value_counts().sort_values(ascending=False).plot(kind='bar',stacked=True, colormap='rainbow')\n",
    "\n",
    "plt.title(\"Novas assinaturas por ano\")\n",
    "plt.show()"
   ]
  },
  {
   "cell_type": "markdown",
   "id": "1a3494c2",
   "metadata": {},
   "source": [
    "<b>Breves insights sobre o 2º Passo</b>  \n",
    "`Mapeando as características do perfil dos clientes que cancelaram é possível criar soluções de negócio direcionadas. Aliado a métricas como o Custo de aquisição dos clientes, pode-se inferir se, durante o lifetime do cliente, houve lucro ou prejuízo.\n",
    "A diminuição brusca de assinaturas no ano de 2021 pode ser resultante da amostra de dados fornecida pela equipe de eng. de dados e não necessariamente reflete um problema de negócio, já que a amostra é reduzida.`"
   ]
  },
  {
   "cell_type": "markdown",
   "id": "0cc7a5f9",
   "metadata": {},
   "source": [
    "<b>Sugestões de próximos passos (3 º Passo) </b>  \n",
    "`Assinaturas pausadas e data de última compra`"
   ]
  },
  {
   "cell_type": "markdown",
   "id": "9664ddef",
   "metadata": {},
   "source": [
    "<b> 3 º Passo </b>"
   ]
  },
  {
   "cell_type": "markdown",
   "id": "d192f81d",
   "metadata": {},
   "source": [
    "`Pausar a assinatura pode significar que o cliente está repensando como gastar seu dinheiro, testando o serviço de um concorrente ou por alguma razão os serviços prestados não lhe são mais necessários naquele período. Com isso, ao parar de receber os serviços, pode acontecer de o cliente ver menos valor no negócio, podendo vir a cancelá-lo no futuro.`"
   ]
  },
  {
   "cell_type": "markdown",
   "id": "be2362c0",
   "metadata": {},
   "source": [
    "`Para diminuir o churn [futuro], olhar para os clientes com assinaturas pausadas é indispensável.`"
   ]
  },
  {
   "cell_type": "code",
   "execution_count": 9,
   "id": "10da8076",
   "metadata": {},
   "outputs": [
    {
     "name": "stdout",
     "output_type": "stream",
     "text": [
      "active      8524\n",
      "paused       971\n",
      "canceled     505\n",
      "Name: status, dtype: int64\n"
     ]
    },
    {
     "data": {
      "image/png": "[encoded data removed]",
      "text/plain": [
       "<Figure size 432x288 with 1 Axes>"
      ]
     },
     "metadata": {
      "needs_background": "light"
     },
     "output_type": "display_data"
    }
   ],
   "source": [
    "\"\"\" Contagem de status \"\"\"\n",
    "freqStatus = dados_pet['status'].value_counts()\n",
    "print(freqStatus)\n",
    "dados_pet['status'].value_counts().sort_values().plot(kind='bar',stacked=True, colormap='rainbow')\n",
    "\n",
    "plt.title(\"Status das assinaturas da amostra\")\n",
    "plt.show()"
   ]
  },
  {
   "cell_type": "code",
   "execution_count": 10,
   "id": "0f5ae047",
   "metadata": {},
   "outputs": [
    {
     "name": "stdout",
     "output_type": "stream",
     "text": [
      "2021    961\n",
      "2020     10\n",
      "Name: last_date_purchase, dtype: int64\n"
     ]
    }
   ],
   "source": [
    "\"\"\" Verificação do ano da data da última compra \"\"\"\n",
    "freqLastPurchase = dados_petPaused['last_date_purchase'].dt.year.value_counts()\n",
    "print(freqLastPurchase)"
   ]
  },
  {
   "cell_type": "markdown",
   "id": "66ad1386",
   "metadata": {},
   "source": [
    "`Pode-se inferir (à seguir) que a maioria das assinaturas que estão pausadas também realizaram suas últimas compras em 2021, assim, estão há pelo menos 1 ano sem realizar novas compras.`"
   ]
  },
  {
   "cell_type": "code",
   "execution_count": 11,
   "id": "1f7c2f6c",
   "metadata": {},
   "outputs": [
    {
     "name": "stdout",
     "output_type": "stream",
     "text": [
      "Data e hora           Ocorrências:\n",
      "2021-01-15 11:23:00    73\n",
      "2021-01-13 11:23:00    68\n",
      "2021-01-16 11:23:00    66\n",
      "2021-01-14 11:23:00    65\n",
      "2021-01-12 11:23:00    62\n",
      "2021-01-17 11:23:00    60\n",
      "2021-01-18 11:23:00    52\n",
      "2021-01-19 11:23:00    50\n",
      "2021-01-20 11:23:00    46\n",
      "2021-01-10 11:23:00    45\n",
      "2021-01-09 11:23:00    40\n",
      "2021-01-08 11:23:00    39\n",
      "2021-01-11 11:23:00    37\n",
      "2021-01-22 11:23:00    37\n",
      "2021-01-21 11:23:00    36\n",
      "2021-01-06 11:23:00    28\n",
      "2021-01-07 11:23:00    28\n",
      "2021-01-23 11:23:00    19\n",
      "2021-01-24 11:23:00    19\n",
      "2021-01-04 11:23:00    16\n",
      "2021-01-05 11:23:00    15\n",
      "2021-01-03 11:23:00    14\n",
      "2021-01-02 11:23:00    10\n",
      "2021-01-25 11:23:00     8\n",
      "2021-01-26 11:23:00     8\n",
      "2021-01-27 11:23:00     6\n",
      "2021-01-01 11:23:00     5\n",
      "2021-01-28 11:23:00     5\n",
      "2020-12-31 11:23:00     5\n",
      "2020-12-28 11:23:00     2\n",
      "2020-12-30 11:23:00     2\n",
      "2021-01-29 11:23:00     2\n",
      "2021-01-31 11:23:00     1\n",
      "2021-01-30 11:23:00     1\n",
      "2020-12-25 11:23:00     1\n",
      "Name: last_date_purchase, dtype: int64\n"
     ]
    }
   ],
   "source": [
    "\"\"\" Ocorrência de assinaturas -> status = paused E a data da última compra \"\"\"\n",
    "ocorr = dados_petPaused.loc[dados_petPaused[\"status\"] == 'paused',\"last_date_purchase\"].value_counts(ascending=False)\n",
    "print('Data e hora           Ocorrências:')\n",
    "print(ocorr)\n"
   ]
  },
  {
   "cell_type": "code",
   "execution_count": 12,
   "id": "e0dcd424",
   "metadata": {},
   "outputs": [
    {
     "name": "stdout",
     "output_type": "stream",
     "text": [
      "------------------------------------------------------------\n",
      "Perfil geral dos clientes que cancelaram assinatura\n",
      "------------------------------------------------------------\n",
      "Média do total de receita do cliente: R$ 1188.21 \n",
      "\n",
      "Média da quantidade de itens pedidos:  8.62 \n",
      "\n",
      "Média de valor gasto por pedido: R$ 218.04 \n",
      "\n"
     ]
    }
   ],
   "source": [
    "\"\"\"\n",
    "Apresentação de resultados\n",
    "\"\"\"\n",
    "print('--'*30)\n",
    "print('Perfil geral dos clientes que cancelaram assinatura')\n",
    "print('--'*30)\n",
    "\n",
    "print('Média do total de receita do cliente: R$',f\"{dados_petPaused['all_revenue'].mean():.2f}\",'\\n') \n",
    "\n",
    "print('Média da quantidade de itens pedidos: ', f\"{dados_petPaused['items_quantity'].mean():.2f}\",'\\n') \n",
    "\n",
    "print('Média de valor gasto por pedido: R$',f\"{dados_petPaused['average_ticket'].mean():.2f}\",'\\n')\n"
   ]
  },
  {
   "cell_type": "code",
   "execution_count": 13,
   "id": "c02fc3e6",
   "metadata": {},
   "outputs": [
    {
     "data": {
      "image/png": "[encoded data removed]",
      "text/plain": [
       "<Figure size 432x288 with 1 Axes>"
      ]
     },
     "metadata": {
      "needs_background": "light"
     },
     "output_type": "display_data"
    }
   ],
   "source": [
    "\"\"\"\n",
    "Qual o número de assinaturas pausadas por estado?\n",
    "\"\"\"\n",
    "dados_petPaused['state'].value_counts().sort_values(ascending=True).plot(kind='bar',stacked=True, colormap='rainbow')\n",
    "\n",
    "plt.title(\"Assinaturas pausadas por estado\")\n",
    "plt.show()"
   ]
  },
  {
   "cell_type": "code",
   "execution_count": 14,
   "id": "919e3bb8",
   "metadata": {},
   "outputs": [
    {
     "name": "stdout",
     "output_type": "stream",
     "text": [
      "organic_search       385\n",
      "direct               181\n",
      "paid_search          149\n",
      "crm                  112\n",
      "telegram_whatsapp     88\n",
      "none                  56\n",
      "Name: marketing_source, dtype: int64\n"
     ]
    },
    {
     "data": {
      "image/png": "[encoded data removed]",
      "text/plain": [
       "<Figure size 432x288 with 1 Axes>"
      ]
     },
     "metadata": {
      "needs_background": "light"
     },
     "output_type": "display_data"
    }
   ],
   "source": [
    "\"\"\"\n",
    "Qual canal de marketing mais converteu as assinaturas? \n",
    "\"\"\"\n",
    "dados_petPaused['marketing_source'].value_counts().sort_values().plot(kind='bar',stacked=True, colormap='rainbow')\n",
    "Mkt = dados_petPaused['marketing_source'].value_counts()\n",
    "print(Mkt)\n",
    "\n",
    "plt.title(\"Frequência do marketing que converteu assinaturas\")\n",
    "plt.show()"
   ]
  },
  {
   "cell_type": "markdown",
   "id": "1c6e9b11",
   "metadata": {},
   "source": [
    "`Assim como visto no perfil dos clientes que cancelaram assinatura, o marketing tráfego orgânico também apresenta maior frequência no caso de clientes que pausaram assinatura.` "
   ]
  },
  {
   "cell_type": "markdown",
   "id": "198e61ee",
   "metadata": {},
   "source": [
    "`Consequentemente, durante a busca orgânica, o cliente é inevitavelmente exposto a empresas concorrentes, situação que pode induzir tanto ao cancelamento quanto à pausa da assinatura.` "
   ]
  },
  {
   "cell_type": "markdown",
   "id": "73940b92",
   "metadata": {},
   "source": [
    "<b>Conclusões</b>  \n",
    "A ideia geral da análise foi mapear o perfil dos clientes que cancelaram a assinatura e extrair insights sobre. Como Próximos Passos, a ideia foi olhar para clientes que possuem maior probabilidade de no futuro cancelarem a assinatura, aumentando o churn, que são clientes com status \"pausado\". Apesar disso, é importante compreender o motivo que fez o cliente optar por cancelar o serviço, isso pode ser feito com pesquisas de satisfação/feedbacks dados pelo próprio cliente.\n",
    "\n",
    "Em relação à coluna \"versões\", não foram encontradas \"anormalidades\" (ex.: alto número de cancelamentos relacionados a uma versão específica), por isso as versões não foram citadas.\n",
    "\n",
    "\n",
    "<b>Observações Gerais</b>  \n",
    "O cancelamento em um baixo período de tempo pode significar que o cliente aproveitou promoções especiais de primeira compra, por exemplo, ou tinha uma única necessidade específica que foi sanada (ex.: falta de estoque do produto em uma loja física) e não refletem necessariamente um problema de negócio que demande alta atenção, como seria no caso do cancelamento de um cliente que já estava fidelizado com a marca. O segundo caso é mais difícil de explicar.\n",
    "\n",
    "\n",
    "\n",
    "\n"
   ]
  },
  {
   "cell_type": "code",
   "execution_count": null,
   "id": "cf546d3c",
   "metadata": {},
   "outputs": [],
   "source": []
  }
 ],
 "metadata": {
  "kernelspec": {
   "display_name": "Python 3",
   "language": "python",
   "name": "python3"
  },
  "language_info": {
   "codemirror_mode": {
    "name": "ipython",
    "version": 3
   },
   "file_extension": ".py",
   "mimetype": "text/x-python",
   "name": "python",
   "nbconvert_exporter": "python",
   "pygments_lexer": "ipython3",
   "version": "3.8.8"
  }
 },
 "nbformat": 4,
 "nbformat_minor": 5
}
